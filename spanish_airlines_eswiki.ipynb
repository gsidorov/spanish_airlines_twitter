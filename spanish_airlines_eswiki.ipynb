{
  "nbformat": 4,
  "nbformat_minor": 0,
  "metadata": {
    "colab": {
      "name": "spanish_airlines_eswiki.ipynb",
      "provenance": []
    },
    "kernelspec": {
      "name": "python3",
      "display_name": "Python 3"
    },
    "accelerator": "GPU"
  },
  "cells": [
    {
      "cell_type": "code",
      "metadata": {
        "id": "JkpdATokl0Cg",
        "colab_type": "code",
        "colab": {}
      },
      "source": [
        "import pandas as pd\n",
        "import numpy as np\n",
        "from fastai import *\n",
        "from fastai.text import *"
      ],
      "execution_count": 3,
      "outputs": []
    },
    {
      "cell_type": "markdown",
      "metadata": {
        "id": "qSsw036Mk0I7",
        "colab_type": "text"
      },
      "source": [
        "In this notebook I am to solve the Spanish Airline Tweets Sentiment Analysis challenge from Kaggle.\n",
        "\n",
        "https://www.kaggle.com/c/spanish-arilines-tweets-sentiment-analysis/overview/description\n",
        "\n",
        "I have trained a model language on the spanish wikipedia that I will employ for the Kaggle task. "
      ]
    },
    {
      "cell_type": "code",
      "metadata": {
        "id": "acHbM-oxlPD5",
        "colab_type": "code",
        "colab": {
          "base_uri": "https://localhost:8080/",
          "height": 479
        },
        "outputId": "5fef7e42-7ff6-4609-df02-748e8ab1e627"
      },
      "source": [
        "# import kaggle .csv file\n",
        "df = pd.read_csv('./tweets_public.csv')\n",
        "df.head()"
      ],
      "execution_count": 12,
      "outputs": [
        {
          "output_type": "execute_result",
          "data": {
            "text/html": [
              "<div>\n",
              "<style scoped>\n",
              "    .dataframe tbody tr th:only-of-type {\n",
              "        vertical-align: middle;\n",
              "    }\n",
              "\n",
              "    .dataframe tbody tr th {\n",
              "        vertical-align: top;\n",
              "    }\n",
              "\n",
              "    .dataframe thead th {\n",
              "        text-align: right;\n",
              "    }\n",
              "</style>\n",
              "<table border=\"1\" class=\"dataframe\">\n",
              "  <thead>\n",
              "    <tr style=\"text-align: right;\">\n",
              "      <th></th>\n",
              "      <th>airline_sentiment</th>\n",
              "      <th>is_reply</th>\n",
              "      <th>reply_count</th>\n",
              "      <th>retweet_count</th>\n",
              "      <th>text</th>\n",
              "      <th>tweet_coord</th>\n",
              "      <th>tweet_created</th>\n",
              "      <th>tweet_id</th>\n",
              "      <th>tweet_location</th>\n",
              "      <th>user_timezone</th>\n",
              "    </tr>\n",
              "  </thead>\n",
              "  <tbody>\n",
              "    <tr>\n",
              "      <th>0</th>\n",
              "      <td>neutral</td>\n",
              "      <td>False</td>\n",
              "      <td>0</td>\n",
              "      <td>0</td>\n",
              "      <td>Trabajar en #Ryanair como #TMA: https://t.co/r...</td>\n",
              "      <td>NaN</td>\n",
              "      <td>Fri Nov 03 12:05:12 +0000 2017</td>\n",
              "      <td>926419989107798016</td>\n",
              "      <td>NaN</td>\n",
              "      <td>Madrid</td>\n",
              "    </tr>\n",
              "    <tr>\n",
              "      <th>1</th>\n",
              "      <td>neutral</td>\n",
              "      <td>True</td>\n",
              "      <td>0</td>\n",
              "      <td>0</td>\n",
              "      <td>@Iberia @FIONAFERRER Cuando gusten en Cancún s...</td>\n",
              "      <td>NaN</td>\n",
              "      <td>Sun Nov 26 18:40:28 +0000 2017</td>\n",
              "      <td>934854385577943041</td>\n",
              "      <td>NaN</td>\n",
              "      <td>Mexico City</td>\n",
              "    </tr>\n",
              "    <tr>\n",
              "      <th>2</th>\n",
              "      <td>negative</td>\n",
              "      <td>False</td>\n",
              "      <td>0</td>\n",
              "      <td>0</td>\n",
              "      <td>Sabiais que @Iberia te trata muy bien en santi...</td>\n",
              "      <td>NaN</td>\n",
              "      <td>Mon Dec 25 15:40:45 +0000 2017</td>\n",
              "      <td>945318406441635840</td>\n",
              "      <td>NaN</td>\n",
              "      <td>Madrid</td>\n",
              "    </tr>\n",
              "    <tr>\n",
              "      <th>3</th>\n",
              "      <td>negative</td>\n",
              "      <td>False</td>\n",
              "      <td>0</td>\n",
              "      <td>0</td>\n",
              "      <td>NUNCA NUNCA NUNCA pidáis el café de Ryanair.\\n...</td>\n",
              "      <td>NaN</td>\n",
              "      <td>Mon Nov 06 14:18:35 +0000 2017</td>\n",
              "      <td>927540721296568320</td>\n",
              "      <td>NaN</td>\n",
              "      <td>Pacific Time (US &amp; Canada)</td>\n",
              "    </tr>\n",
              "    <tr>\n",
              "      <th>4</th>\n",
              "      <td>positive</td>\n",
              "      <td>True</td>\n",
              "      <td>0</td>\n",
              "      <td>0</td>\n",
              "      <td>@cris_tortu @dakar @Iberia @Mitsubishi_ES @BFG...</td>\n",
              "      <td>NaN</td>\n",
              "      <td>Mon Jan 01 23:00:57 +0000 2018</td>\n",
              "      <td>947965901332197376</td>\n",
              "      <td>NaN</td>\n",
              "      <td>Buenos Aires</td>\n",
              "    </tr>\n",
              "  </tbody>\n",
              "</table>\n",
              "</div>"
            ],
            "text/plain": [
              "  airline_sentiment  is_reply  ...  tweet_location               user_timezone\n",
              "0           neutral     False  ...             NaN                      Madrid\n",
              "1           neutral      True  ...             NaN                 Mexico City\n",
              "2          negative     False  ...             NaN                      Madrid\n",
              "3          negative     False  ...             NaN  Pacific Time (US & Canada)\n",
              "4          positive      True  ...             NaN                Buenos Aires\n",
              "\n",
              "[5 rows x 10 columns]"
            ]
          },
          "metadata": {
            "tags": []
          },
          "execution_count": 12
        }
      ]
    },
    {
      "cell_type": "code",
      "metadata": {
        "id": "48fC_PWPlvD7",
        "colab_type": "code",
        "colab": {}
      },
      "source": [
        "df = df.loc[:, ['airline_sentiment', 'text']]\n",
        "df.airline_sentiment.replace(['negative', 'neutral', 'positive'], [0, 1, 2], inplace=True)"
      ],
      "execution_count": 13,
      "outputs": []
    },
    {
      "cell_type": "code",
      "metadata": {
        "id": "ioJSNXqNmZF2",
        "colab_type": "code",
        "colab": {
          "base_uri": "https://localhost:8080/",
          "height": 419
        },
        "outputId": "89e5091e-da29-4db7-ab8f-d5f3dc33ac0d"
      },
      "source": [
        "df"
      ],
      "execution_count": 14,
      "outputs": [
        {
          "output_type": "execute_result",
          "data": {
            "text/html": [
              "<div>\n",
              "<style scoped>\n",
              "    .dataframe tbody tr th:only-of-type {\n",
              "        vertical-align: middle;\n",
              "    }\n",
              "\n",
              "    .dataframe tbody tr th {\n",
              "        vertical-align: top;\n",
              "    }\n",
              "\n",
              "    .dataframe thead th {\n",
              "        text-align: right;\n",
              "    }\n",
              "</style>\n",
              "<table border=\"1\" class=\"dataframe\">\n",
              "  <thead>\n",
              "    <tr style=\"text-align: right;\">\n",
              "      <th></th>\n",
              "      <th>airline_sentiment</th>\n",
              "      <th>text</th>\n",
              "    </tr>\n",
              "  </thead>\n",
              "  <tbody>\n",
              "    <tr>\n",
              "      <th>0</th>\n",
              "      <td>1</td>\n",
              "      <td>Trabajar en #Ryanair como #TMA: https://t.co/r...</td>\n",
              "    </tr>\n",
              "    <tr>\n",
              "      <th>1</th>\n",
              "      <td>1</td>\n",
              "      <td>@Iberia @FIONAFERRER Cuando gusten en Cancún s...</td>\n",
              "    </tr>\n",
              "    <tr>\n",
              "      <th>2</th>\n",
              "      <td>0</td>\n",
              "      <td>Sabiais que @Iberia te trata muy bien en santi...</td>\n",
              "    </tr>\n",
              "    <tr>\n",
              "      <th>3</th>\n",
              "      <td>0</td>\n",
              "      <td>NUNCA NUNCA NUNCA pidáis el café de Ryanair.\\n...</td>\n",
              "    </tr>\n",
              "    <tr>\n",
              "      <th>4</th>\n",
              "      <td>2</td>\n",
              "      <td>@cris_tortu @dakar @Iberia @Mitsubishi_ES @BFG...</td>\n",
              "    </tr>\n",
              "    <tr>\n",
              "      <th>...</th>\n",
              "      <td>...</td>\n",
              "      <td>...</td>\n",
              "    </tr>\n",
              "    <tr>\n",
              "      <th>7862</th>\n",
              "      <td>0</td>\n",
              "      <td>@Iberia @iberiaexpress especialistas en dejart...</td>\n",
              "    </tr>\n",
              "    <tr>\n",
              "      <th>7863</th>\n",
              "      <td>1</td>\n",
              "      <td>Con @Iberia, mi destino a un solo click. ¡Dese...</td>\n",
              "    </tr>\n",
              "    <tr>\n",
              "      <th>7864</th>\n",
              "      <td>2</td>\n",
              "      <td>@Iberia Muy bien. Muchas gracias</td>\n",
              "    </tr>\n",
              "    <tr>\n",
              "      <th>7865</th>\n",
              "      <td>0</td>\n",
              "      <td>Es que volar con Ryanair es peor que irte a ch...</td>\n",
              "    </tr>\n",
              "    <tr>\n",
              "      <th>7866</th>\n",
              "      <td>0</td>\n",
              "      <td>Iberia inaugura un nuevo espacio Premium para ...</td>\n",
              "    </tr>\n",
              "  </tbody>\n",
              "</table>\n",
              "<p>7867 rows × 2 columns</p>\n",
              "</div>"
            ],
            "text/plain": [
              "      airline_sentiment                                               text\n",
              "0                     1  Trabajar en #Ryanair como #TMA: https://t.co/r...\n",
              "1                     1  @Iberia @FIONAFERRER Cuando gusten en Cancún s...\n",
              "2                     0  Sabiais que @Iberia te trata muy bien en santi...\n",
              "3                     0  NUNCA NUNCA NUNCA pidáis el café de Ryanair.\\n...\n",
              "4                     2  @cris_tortu @dakar @Iberia @Mitsubishi_ES @BFG...\n",
              "...                 ...                                                ...\n",
              "7862                  0  @Iberia @iberiaexpress especialistas en dejart...\n",
              "7863                  1  Con @Iberia, mi destino a un solo click. ¡Dese...\n",
              "7864                  2                   @Iberia Muy bien. Muchas gracias\n",
              "7865                  0  Es que volar con Ryanair es peor que irte a ch...\n",
              "7866                  0  Iberia inaugura un nuevo espacio Premium para ...\n",
              "\n",
              "[7867 rows x 2 columns]"
            ]
          },
          "metadata": {
            "tags": []
          },
          "execution_count": 14
        }
      ]
    },
    {
      "cell_type": "markdown",
      "metadata": {
        "id": "MGU_dA5MmZ4U",
        "colab_type": "text"
      },
      "source": [
        "Dataset ready, now we are going to mount the drive account to get to our:\n",
        "\n",
        "* data model (spanish wikipedia)\n",
        "* pretrained weights of the language model\n",
        "* vocabulary of the model\n",
        "\n"
      ]
    },
    {
      "cell_type": "code",
      "metadata": {
        "id": "3-b3WEN3mwWx",
        "colab_type": "code",
        "colab": {
          "base_uri": "https://localhost:8080/",
          "height": 122
        },
        "outputId": "a872aba3-ec47-4bf8-b9c9-f5ef7f2a36ef"
      },
      "source": [
        "from google.colab import drive\n",
        "drive.mount(\"/content/drive\")"
      ],
      "execution_count": 15,
      "outputs": [
        {
          "output_type": "stream",
          "text": [
            "Go to this URL in a browser: https://accounts.google.com/o/oauth2/auth?client_id=947318989803-6bn6qk8qdgf4n4g3pfee6491hc0brc4i.apps.googleusercontent.com&redirect_uri=urn%3aietf%3awg%3aoauth%3a2.0%3aoob&scope=email%20https%3a%2f%2fwww.googleapis.com%2fauth%2fdocs.test%20https%3a%2f%2fwww.googleapis.com%2fauth%2fdrive%20https%3a%2f%2fwww.googleapis.com%2fauth%2fdrive.photos.readonly%20https%3a%2f%2fwww.googleapis.com%2fauth%2fpeopleapi.readonly&response_type=code\n",
            "\n",
            "Enter your authorization code:\n",
            "··········\n",
            "Mounted at /content/drive\n"
          ],
          "name": "stdout"
        }
      ]
    },
    {
      "cell_type": "code",
      "metadata": {
        "id": "rtTdZDXmnBK1",
        "colab_type": "code",
        "colab": {}
      },
      "source": [
        ""
      ],
      "execution_count": null,
      "outputs": []
    }
  ]
}