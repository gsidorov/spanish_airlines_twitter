{
  "nbformat": 4,
  "nbformat_minor": 0,
  "metadata": {
    "colab": {
      "name": "spanish_airlines_eswiki.ipynb",
      "provenance": []
    },
    "kernelspec": {
      "name": "python3",
      "display_name": "Python 3"
    },
    "accelerator": "GPU"
  },
  "cells": [
    {
      "cell_type": "code",
      "metadata": {
        "id": "JkpdATokl0Cg",
        "colab_type": "code",
        "colab": {}
      },
      "source": [
        "import pandas as pd\n",
        "import numpy as np\n",
        "from fastai import *\n",
        "from fastai.text import *"
      ],
      "execution_count": 3,
      "outputs": []
    },
    {
      "cell_type": "markdown",
      "metadata": {
        "id": "qSsw036Mk0I7",
        "colab_type": "text"
      },
      "source": [
        "In this notebook I am to solve the Spanish Airline Tweets Sentiment Analysis challenge from Kaggle.\n",
        "\n",
        "https://www.kaggle.com/c/spanish-arilines-tweets-sentiment-analysis/overview/description\n",
        "\n",
        "I have trained a model language on the spanish wikipedia that I will employ for the Kaggle task. "
      ]
    },
    {
      "cell_type": "code",
      "metadata": {
        "id": "acHbM-oxlPD5",
        "colab_type": "code",
        "colab": {
          "base_uri": "https://localhost:8080/",
          "height": 479
        },
        "outputId": "5fef7e42-7ff6-4609-df02-748e8ab1e627"
      },
      "source": [
        "# import kaggle .csv file\n",
        "df = pd.read_csv('./tweets_public.csv')\n",
        "df.head()"
      ],
      "execution_count": 12,
      "outputs": [
        {
          "output_type": "execute_result",
          "data": {
            "text/html": [
              "<div>\n",
              "<style scoped>\n",
              "    .dataframe tbody tr th:only-of-type {\n",
              "        vertical-align: middle;\n",
              "    }\n",
              "\n",
              "    .dataframe tbody tr th {\n",
              "        vertical-align: top;\n",
              "    }\n",
              "\n",
              "    .dataframe thead th {\n",
              "        text-align: right;\n",
              "    }\n",
              "</style>\n",
              "<table border=\"1\" class=\"dataframe\">\n",
              "  <thead>\n",
              "    <tr style=\"text-align: right;\">\n",
              "      <th></th>\n",
              "      <th>airline_sentiment</th>\n",
              "      <th>is_reply</th>\n",
              "      <th>reply_count</th>\n",
              "      <th>retweet_count</th>\n",
              "      <th>text</th>\n",
              "      <th>tweet_coord</th>\n",
              "      <th>tweet_created</th>\n",
              "      <th>tweet_id</th>\n",
              "      <th>tweet_location</th>\n",
              "      <th>user_timezone</th>\n",
              "    </tr>\n",
              "  </thead>\n",
              "  <tbody>\n",
              "    <tr>\n",
              "      <th>0</th>\n",
              "      <td>neutral</td>\n",
              "      <td>False</td>\n",
              "      <td>0</td>\n",
              "      <td>0</td>\n",
              "      <td>Trabajar en #Ryanair como #TMA: https://t.co/r...</td>\n",
              "      <td>NaN</td>\n",
              "      <td>Fri Nov 03 12:05:12 +0000 2017</td>\n",
              "      <td>926419989107798016</td>\n",
              "      <td>NaN</td>\n",
              "      <td>Madrid</td>\n",
              "    </tr>\n",
              "    <tr>\n",
              "      <th>1</th>\n",
              "      <td>neutral</td>\n",
              "      <td>True</td>\n",
              "      <td>0</td>\n",
              "      <td>0</td>\n",
              "      <td>@Iberia @FIONAFERRER Cuando gusten en Cancún s...</td>\n",
              "      <td>NaN</td>\n",
              "      <td>Sun Nov 26 18:40:28 +0000 2017</td>\n",
              "      <td>934854385577943041</td>\n",
              "      <td>NaN</td>\n",
              "      <td>Mexico City</td>\n",
              "    </tr>\n",
              "    <tr>\n",
              "      <th>2</th>\n",
              "      <td>negative</td>\n",
              "      <td>False</td>\n",
              "      <td>0</td>\n",
              "      <td>0</td>\n",
              "      <td>Sabiais que @Iberia te trata muy bien en santi...</td>\n",
              "      <td>NaN</td>\n",
              "      <td>Mon Dec 25 15:40:45 +0000 2017</td>\n",
              "      <td>945318406441635840</td>\n",
              "      <td>NaN</td>\n",
              "      <td>Madrid</td>\n",
              "    </tr>\n",
              "    <tr>\n",
              "      <th>3</th>\n",
              "      <td>negative</td>\n",
              "      <td>False</td>\n",
              "      <td>0</td>\n",
              "      <td>0</td>\n",
              "      <td>NUNCA NUNCA NUNCA pidáis el café de Ryanair.\\n...</td>\n",
              "      <td>NaN</td>\n",
              "      <td>Mon Nov 06 14:18:35 +0000 2017</td>\n",
              "      <td>927540721296568320</td>\n",
              "      <td>NaN</td>\n",
              "      <td>Pacific Time (US &amp; Canada)</td>\n",
              "    </tr>\n",
              "    <tr>\n",
              "      <th>4</th>\n",
              "      <td>positive</td>\n",
              "      <td>True</td>\n",
              "      <td>0</td>\n",
              "      <td>0</td>\n",
              "      <td>@cris_tortu @dakar @Iberia @Mitsubishi_ES @BFG...</td>\n",
              "      <td>NaN</td>\n",
              "      <td>Mon Jan 01 23:00:57 +0000 2018</td>\n",
              "      <td>947965901332197376</td>\n",
              "      <td>NaN</td>\n",
              "      <td>Buenos Aires</td>\n",
              "    </tr>\n",
              "  </tbody>\n",
              "</table>\n",
              "</div>"
            ],
            "text/plain": [
              "  airline_sentiment  is_reply  ...  tweet_location               user_timezone\n",
              "0           neutral     False  ...             NaN                      Madrid\n",
              "1           neutral      True  ...             NaN                 Mexico City\n",
              "2          negative     False  ...             NaN                      Madrid\n",
              "3          negative     False  ...             NaN  Pacific Time (US & Canada)\n",
              "4          positive      True  ...             NaN                Buenos Aires\n",
              "\n",
              "[5 rows x 10 columns]"
            ]
          },
          "metadata": {
            "tags": []
          },
          "execution_count": 12
        }
      ]
    },
    {
      "cell_type": "code",
      "metadata": {
        "id": "vIJg7Ubgrg7m",
        "colab_type": "code",
        "colab": {
          "base_uri": "https://localhost:8080/",
          "height": 68
        },
        "outputId": "e996094d-4fb7-4a83-817a-36c8ec1bb4e5"
      },
      "source": [
        "df.isna().sum()"
      ],
      "execution_count": 19,
      "outputs": [
        {
          "output_type": "execute_result",
          "data": {
            "text/plain": [
              "airline_sentiment    0\n",
              "text                 0\n",
              "dtype: int64"
            ]
          },
          "metadata": {
            "tags": []
          },
          "execution_count": 19
        }
      ]
    },
    {
      "cell_type": "code",
      "metadata": {
        "id": "48fC_PWPlvD7",
        "colab_type": "code",
        "colab": {}
      },
      "source": [
        "df = df.loc[:, ['airline_sentiment', 'text']]\n",
        "df.airline_sentiment.replace(['negative', 'neutral', 'positive'], [0, 1, 2], inplace=True)"
      ],
      "execution_count": 13,
      "outputs": []
    },
    {
      "cell_type": "code",
      "metadata": {
        "id": "ioJSNXqNmZF2",
        "colab_type": "code",
        "colab": {
          "base_uri": "https://localhost:8080/",
          "height": 419
        },
        "outputId": "89e5091e-da29-4db7-ab8f-d5f3dc33ac0d"
      },
      "source": [
        "df"
      ],
      "execution_count": 14,
      "outputs": [
        {
          "output_type": "execute_result",
          "data": {
            "text/html": [
              "<div>\n",
              "<style scoped>\n",
              "    .dataframe tbody tr th:only-of-type {\n",
              "        vertical-align: middle;\n",
              "    }\n",
              "\n",
              "    .dataframe tbody tr th {\n",
              "        vertical-align: top;\n",
              "    }\n",
              "\n",
              "    .dataframe thead th {\n",
              "        text-align: right;\n",
              "    }\n",
              "</style>\n",
              "<table border=\"1\" class=\"dataframe\">\n",
              "  <thead>\n",
              "    <tr style=\"text-align: right;\">\n",
              "      <th></th>\n",
              "      <th>airline_sentiment</th>\n",
              "      <th>text</th>\n",
              "    </tr>\n",
              "  </thead>\n",
              "  <tbody>\n",
              "    <tr>\n",
              "      <th>0</th>\n",
              "      <td>1</td>\n",
              "      <td>Trabajar en #Ryanair como #TMA: https://t.co/r...</td>\n",
              "    </tr>\n",
              "    <tr>\n",
              "      <th>1</th>\n",
              "      <td>1</td>\n",
              "      <td>@Iberia @FIONAFERRER Cuando gusten en Cancún s...</td>\n",
              "    </tr>\n",
              "    <tr>\n",
              "      <th>2</th>\n",
              "      <td>0</td>\n",
              "      <td>Sabiais que @Iberia te trata muy bien en santi...</td>\n",
              "    </tr>\n",
              "    <tr>\n",
              "      <th>3</th>\n",
              "      <td>0</td>\n",
              "      <td>NUNCA NUNCA NUNCA pidáis el café de Ryanair.\\n...</td>\n",
              "    </tr>\n",
              "    <tr>\n",
              "      <th>4</th>\n",
              "      <td>2</td>\n",
              "      <td>@cris_tortu @dakar @Iberia @Mitsubishi_ES @BFG...</td>\n",
              "    </tr>\n",
              "    <tr>\n",
              "      <th>...</th>\n",
              "      <td>...</td>\n",
              "      <td>...</td>\n",
              "    </tr>\n",
              "    <tr>\n",
              "      <th>7862</th>\n",
              "      <td>0</td>\n",
              "      <td>@Iberia @iberiaexpress especialistas en dejart...</td>\n",
              "    </tr>\n",
              "    <tr>\n",
              "      <th>7863</th>\n",
              "      <td>1</td>\n",
              "      <td>Con @Iberia, mi destino a un solo click. ¡Dese...</td>\n",
              "    </tr>\n",
              "    <tr>\n",
              "      <th>7864</th>\n",
              "      <td>2</td>\n",
              "      <td>@Iberia Muy bien. Muchas gracias</td>\n",
              "    </tr>\n",
              "    <tr>\n",
              "      <th>7865</th>\n",
              "      <td>0</td>\n",
              "      <td>Es que volar con Ryanair es peor que irte a ch...</td>\n",
              "    </tr>\n",
              "    <tr>\n",
              "      <th>7866</th>\n",
              "      <td>0</td>\n",
              "      <td>Iberia inaugura un nuevo espacio Premium para ...</td>\n",
              "    </tr>\n",
              "  </tbody>\n",
              "</table>\n",
              "<p>7867 rows × 2 columns</p>\n",
              "</div>"
            ],
            "text/plain": [
              "      airline_sentiment                                               text\n",
              "0                     1  Trabajar en #Ryanair como #TMA: https://t.co/r...\n",
              "1                     1  @Iberia @FIONAFERRER Cuando gusten en Cancún s...\n",
              "2                     0  Sabiais que @Iberia te trata muy bien en santi...\n",
              "3                     0  NUNCA NUNCA NUNCA pidáis el café de Ryanair.\\n...\n",
              "4                     2  @cris_tortu @dakar @Iberia @Mitsubishi_ES @BFG...\n",
              "...                 ...                                                ...\n",
              "7862                  0  @Iberia @iberiaexpress especialistas en dejart...\n",
              "7863                  1  Con @Iberia, mi destino a un solo click. ¡Dese...\n",
              "7864                  2                   @Iberia Muy bien. Muchas gracias\n",
              "7865                  0  Es que volar con Ryanair es peor que irte a ch...\n",
              "7866                  0  Iberia inaugura un nuevo espacio Premium para ...\n",
              "\n",
              "[7867 rows x 2 columns]"
            ]
          },
          "metadata": {
            "tags": []
          },
          "execution_count": 14
        }
      ]
    },
    {
      "cell_type": "markdown",
      "metadata": {
        "id": "MGU_dA5MmZ4U",
        "colab_type": "text"
      },
      "source": [
        "Dataset ready, now we are going to mount the drive account to get to our:\n",
        "\n",
        "* data model (spanish wikipedia)\n",
        "* pretrained weights of the language model\n",
        "* vocabulary of the model\n",
        "\n"
      ]
    },
    {
      "cell_type": "code",
      "metadata": {
        "id": "3-b3WEN3mwWx",
        "colab_type": "code",
        "colab": {
          "base_uri": "https://localhost:8080/",
          "height": 122
        },
        "outputId": "a872aba3-ec47-4bf8-b9c9-f5ef7f2a36ef"
      },
      "source": [
        "from google.colab import drive\n",
        "drive.mount(\"/content/drive\")"
      ],
      "execution_count": 15,
      "outputs": [
        {
          "output_type": "stream",
          "text": [
            "Go to this URL in a browser: https://accounts.google.com/o/oauth2/auth?client_id=947318989803-6bn6qk8qdgf4n4g3pfee6491hc0brc4i.apps.googleusercontent.com&redirect_uri=urn%3aietf%3awg%3aoauth%3a2.0%3aoob&scope=email%20https%3a%2f%2fwww.googleapis.com%2fauth%2fdocs.test%20https%3a%2f%2fwww.googleapis.com%2fauth%2fdrive%20https%3a%2f%2fwww.googleapis.com%2fauth%2fdrive.photos.readonly%20https%3a%2f%2fwww.googleapis.com%2fauth%2fpeopleapi.readonly&response_type=code\n",
            "\n",
            "Enter your authorization code:\n",
            "··········\n",
            "Mounted at /content/drive\n"
          ],
          "name": "stdout"
        }
      ]
    },
    {
      "cell_type": "code",
      "metadata": {
        "id": "rtTdZDXmnBK1",
        "colab_type": "code",
        "colab": {}
      },
      "source": [
        "train_df = df"
      ],
      "execution_count": 20,
      "outputs": []
    },
    {
      "cell_type": "markdown",
      "metadata": {
        "id": "QtfbQ3sGruK_",
        "colab_type": "text"
      },
      "source": [
        "Creating data bunch object in fast ai, this process "
      ]
    },
    {
      "cell_type": "code",
      "metadata": {
        "id": "srAMwOWvsQiv",
        "colab_type": "code",
        "colab": {
          "base_uri": "https://localhost:8080/",
          "height": 357
        },
        "outputId": "4250869b-a79c-4396-c290-9ed4dfda4534"
      },
      "source": [
        "!nvidia-smi"
      ],
      "execution_count": 23,
      "outputs": [
        {
          "output_type": "stream",
          "text": [
            "Thu Aug 20 21:05:45 2020       \n",
            "+-----------------------------------------------------------------------------+\n",
            "| NVIDIA-SMI 450.57       Driver Version: 418.67       CUDA Version: 10.1     |\n",
            "|-------------------------------+----------------------+----------------------+\n",
            "| GPU  Name        Persistence-M| Bus-Id        Disp.A | Volatile Uncorr. ECC |\n",
            "| Fan  Temp  Perf  Pwr:Usage/Cap|         Memory-Usage | GPU-Util  Compute M. |\n",
            "|                               |                      |               MIG M. |\n",
            "|===============================+======================+======================|\n",
            "|   0  Tesla T4            Off  | 00000000:00:04.0 Off |                    0 |\n",
            "| N/A   40C    P8     9W /  70W |     10MiB / 15079MiB |      0%      Default |\n",
            "|                               |                      |                 ERR! |\n",
            "+-------------------------------+----------------------+----------------------+\n",
            "                                                                               \n",
            "+-----------------------------------------------------------------------------+\n",
            "| Processes:                                                                  |\n",
            "|  GPU   GI   CI        PID   Type   Process name                  GPU Memory |\n",
            "|        ID   ID                                                   Usage      |\n",
            "|=============================================================================|\n",
            "|  No running processes found                                                 |\n",
            "+-----------------------------------------------------------------------------+\n"
          ],
          "name": "stdout"
        }
      ]
    },
    {
      "cell_type": "code",
      "metadata": {
        "id": "lI0VNCnBsPAi",
        "colab_type": "code",
        "colab": {}
      },
      "source": [
        "bs = 192"
      ],
      "execution_count": 24,
      "outputs": []
    },
    {
      "cell_type": "code",
      "metadata": {
        "id": "f7TrpoB8rsJu",
        "colab_type": "code",
        "colab": {
          "base_uri": "https://localhost:8080/",
          "height": 17
        },
        "outputId": "ff2884f8-274f-4e0c-afd7-26b8e0955e8d"
      },
      "source": [
        "data_lm = (TextList.from_df(df, cols='text',)\n",
        "    .split_by_rand_pct(0.1, seed=42)\n",
        "    .label_for_lm()           \n",
        "    .databunch(bs=bs, num_workers=1))"
      ],
      "execution_count": 45,
      "outputs": [
        {
          "output_type": "display_data",
          "data": {
            "text/html": [
              ""
            ],
            "text/plain": [
              "<IPython.core.display.HTML object>"
            ]
          },
          "metadata": {
            "tags": []
          }
        },
        {
          "output_type": "display_data",
          "data": {
            "text/html": [
              ""
            ],
            "text/plain": [
              "<IPython.core.display.HTML object>"
            ]
          },
          "metadata": {
            "tags": []
          }
        }
      ]
    },
    {
      "cell_type": "code",
      "metadata": {
        "id": "LOjlNDDQsM3n",
        "colab_type": "code",
        "colab": {
          "base_uri": "https://localhost:8080/",
          "height": 187
        },
        "outputId": "81e74619-450b-49f4-b8c5-48d797dbfa1d"
      },
      "source": [
        "data_lm.vocab.itos[440:450] # We are also capturing emojis"
      ],
      "execution_count": 61,
      "outputs": [
        {
          "output_type": "execute_result",
          "data": {
            "text/plain": [
              "['italia',\n",
              " '🛫',\n",
              " 'dm',\n",
              " 'san',\n",
              " 'tax',\n",
              " 'alemania',\n",
              " 'llega',\n",
              " '@aireuropa',\n",
              " 'tampoco',\n",
              " '😍']"
            ]
          },
          "metadata": {
            "tags": []
          },
          "execution_count": 61
        }
      ]
    },
    {
      "cell_type": "code",
      "metadata": {
        "id": "2hFFykB7ubUP",
        "colab_type": "code",
        "colab": {
          "base_uri": "https://localhost:8080/",
          "height": 34
        },
        "outputId": "62482b19-25d5-4c9a-b6f6-d322b148950c"
      },
      "source": [
        "# Loading weights of the spanish wiki\n",
        "!mkdir eswiki\n",
        "!mkdir eswiki/models"
      ],
      "execution_count": 65,
      "outputs": [
        {
          "output_type": "stream",
          "text": [
            "mkdir: cannot create directory ‘eswiki/models’: File exists\n"
          ],
          "name": "stdout"
        }
      ]
    },
    {
      "cell_type": "code",
      "metadata": {
        "id": "2bqAZWnSuwP1",
        "colab_type": "code",
        "colab": {}
      },
      "source": [
        "!cp /content/drive/My\\ Drive/training_eswiki/models/es_wt.pth /content/eswiki/models\n",
        "!cp /content/drive/My\\ Drive/training_eswiki/models/es_wt_vocab.pkl /content/eswiki/models\n"
      ],
      "execution_count": 68,
      "outputs": []
    },
    {
      "cell_type": "code",
      "metadata": {
        "id": "KvhplDGlvbXH",
        "colab_type": "code",
        "colab": {}
      },
      "source": [
        "data_lm.path = '/content/eswiki'"
      ],
      "execution_count": 73,
      "outputs": []
    },
    {
      "cell_type": "code",
      "metadata": {
        "id": "9J_q6di6vq2s",
        "colab_type": "code",
        "colab": {}
      },
      "source": [
        "lm_fns = ['es_wt', 'es_wt_vocab']"
      ],
      "execution_count": 74,
      "outputs": []
    },
    {
      "cell_type": "code",
      "metadata": {
        "id": "IAM0iBPEsW0H",
        "colab_type": "code",
        "colab": {}
      },
      "source": [
        "learn_lm = language_model_learner(data_lm, AWD_LSTM, pretrained_fnames=lm_fns, drop_mult=1.0)"
      ],
      "execution_count": 75,
      "outputs": []
    },
    {
      "cell_type": "code",
      "metadata": {
        "id": "jn7pPYwsva1D",
        "colab_type": "code",
        "colab": {
          "base_uri": "https://localhost:8080/",
          "height": 139
        },
        "outputId": "7977a2a9-2594-4c09-def2-f080fbf96571"
      },
      "source": [
        "learn_lm.data.single_ds"
      ],
      "execution_count": 79,
      "outputs": [
        {
          "output_type": "execute_result",
          "data": {
            "text/plain": [
              "LabelList (786 items)\n",
              "x: LMTextList\n",
              "xxbos xxmaj línea xxmaj directa , xxmaj ryanair y la larga lista de empresas que xxunk con los 902 https : / / t.co / xxunk vía xxunk,xxbos xxmaj con @iberia , mi destino a un solo click . ¡ xxmaj deseadme suerte ! # holaargentina . xxmaj hola 79 destinos europeos al mejor precio https : / / t.co / xxunk,xxbos @iberia sabemos si se cancela este vuelo ? ? xxmaj gracias ! https : / / t.co / xxunk,xxbos @iberia ¿ es posible cambiar la fecha de mi billete a través de su página web ?,xxbos @iberia xxmaj buenas tardes , es posible que el servicio xxup ib xxmaj plus xxmaj oro te tenga más de 15 minutos en espera para una xxunk … https : / / t.co / xxunk\n",
              "y: LMLabelList\n",
              ",,,,\n",
              "Path: ."
            ]
          },
          "metadata": {
            "tags": []
          },
          "execution_count": 79
        }
      ]
    },
    {
      "cell_type": "code",
      "metadata": {
        "id": "X8cldCIfv7AA",
        "colab_type": "code",
        "colab": {}
      },
      "source": [
        "lr = 1e-3\n",
        "lr *= bs/48"
      ],
      "execution_count": 80,
      "outputs": []
    },
    {
      "cell_type": "code",
      "metadata": {
        "id": "GNhl4by7weuK",
        "colab_type": "code",
        "colab": {
          "base_uri": "https://localhost:8080/",
          "height": 111
        },
        "outputId": "6ab8f2de-c107-45ea-b4ae-d655780291f8"
      },
      "source": [
        "learn_lm.fit_one_cycle(2, lr*10, moms=(0.8,0.7))"
      ],
      "execution_count": 81,
      "outputs": [
        {
          "output_type": "display_data",
          "data": {
            "text/html": [
              "<table border=\"1\" class=\"dataframe\">\n",
              "  <thead>\n",
              "    <tr style=\"text-align: left;\">\n",
              "      <th>epoch</th>\n",
              "      <th>train_loss</th>\n",
              "      <th>valid_loss</th>\n",
              "      <th>accuracy</th>\n",
              "      <th>time</th>\n",
              "    </tr>\n",
              "  </thead>\n",
              "  <tbody>\n",
              "    <tr>\n",
              "      <td>0</td>\n",
              "      <td>6.297725</td>\n",
              "      <td>3.699950</td>\n",
              "      <td>0.342374</td>\n",
              "      <td>00:06</td>\n",
              "    </tr>\n",
              "    <tr>\n",
              "      <td>1</td>\n",
              "      <td>4.819430</td>\n",
              "      <td>3.366233</td>\n",
              "      <td>0.401004</td>\n",
              "      <td>00:05</td>\n",
              "    </tr>\n",
              "  </tbody>\n",
              "</table>"
            ],
            "text/plain": [
              "<IPython.core.display.HTML object>"
            ]
          },
          "metadata": {
            "tags": []
          }
        }
      ]
    },
    {
      "cell_type": "code",
      "metadata": {
        "id": "fEGXOsxYwgIe",
        "colab_type": "code",
        "colab": {
          "base_uri": "https://localhost:8080/",
          "height": 297
        },
        "outputId": "0b87b62d-fdff-4acf-e437-5e1510479ddf"
      },
      "source": [
        "learn_lm.unfreeze()\n",
        "learn_lm.fit_one_cycle(8, lr, moms=(0.8,0.7))"
      ],
      "execution_count": 82,
      "outputs": [
        {
          "output_type": "display_data",
          "data": {
            "text/html": [
              "<table border=\"1\" class=\"dataframe\">\n",
              "  <thead>\n",
              "    <tr style=\"text-align: left;\">\n",
              "      <th>epoch</th>\n",
              "      <th>train_loss</th>\n",
              "      <th>valid_loss</th>\n",
              "      <th>accuracy</th>\n",
              "      <th>time</th>\n",
              "    </tr>\n",
              "  </thead>\n",
              "  <tbody>\n",
              "    <tr>\n",
              "      <td>0</td>\n",
              "      <td>3.463773</td>\n",
              "      <td>3.157094</td>\n",
              "      <td>0.427455</td>\n",
              "      <td>00:08</td>\n",
              "    </tr>\n",
              "    <tr>\n",
              "      <td>1</td>\n",
              "      <td>3.329311</td>\n",
              "      <td>2.977403</td>\n",
              "      <td>0.453571</td>\n",
              "      <td>00:08</td>\n",
              "    </tr>\n",
              "    <tr>\n",
              "      <td>2</td>\n",
              "      <td>3.180807</td>\n",
              "      <td>2.840838</td>\n",
              "      <td>0.465327</td>\n",
              "      <td>00:08</td>\n",
              "    </tr>\n",
              "    <tr>\n",
              "      <td>3</td>\n",
              "      <td>3.037075</td>\n",
              "      <td>2.834662</td>\n",
              "      <td>0.470573</td>\n",
              "      <td>00:08</td>\n",
              "    </tr>\n",
              "    <tr>\n",
              "      <td>4</td>\n",
              "      <td>2.902515</td>\n",
              "      <td>2.723954</td>\n",
              "      <td>0.484821</td>\n",
              "      <td>00:09</td>\n",
              "    </tr>\n",
              "    <tr>\n",
              "      <td>5</td>\n",
              "      <td>2.787369</td>\n",
              "      <td>2.707082</td>\n",
              "      <td>0.485491</td>\n",
              "      <td>00:09</td>\n",
              "    </tr>\n",
              "    <tr>\n",
              "      <td>6</td>\n",
              "      <td>2.682709</td>\n",
              "      <td>2.691767</td>\n",
              "      <td>0.488021</td>\n",
              "      <td>00:09</td>\n",
              "    </tr>\n",
              "    <tr>\n",
              "      <td>7</td>\n",
              "      <td>2.602543</td>\n",
              "      <td>2.694229</td>\n",
              "      <td>0.488132</td>\n",
              "      <td>00:09</td>\n",
              "    </tr>\n",
              "  </tbody>\n",
              "</table>"
            ],
            "text/plain": [
              "<IPython.core.display.HTML object>"
            ]
          },
          "metadata": {
            "tags": []
          }
        }
      ]
    },
    {
      "cell_type": "code",
      "metadata": {
        "id": "nLfSJCeSw3ky",
        "colab_type": "code",
        "colab": {
          "base_uri": "https://localhost:8080/",
          "height": 35
        },
        "outputId": "09f6836b-1f89-4a1b-de16-0d219fda65fe"
      },
      "source": [
        "learn_lm.predict('mi vuelo no sale', 4)"
      ],
      "execution_count": 105,
      "outputs": [
        {
          "output_type": "execute_result",
          "data": {
            "application/vnd.google.colaboratory.intrinsic+json": {
              "type": "string"
            },
            "text/plain": [
              "'mi vuelo no sale solo sin otra forma'"
            ]
          },
          "metadata": {
            "tags": []
          },
          "execution_count": 105
        }
      ]
    },
    {
      "cell_type": "code",
      "metadata": {
        "id": "4IL7-1Kvwju4",
        "colab_type": "code",
        "colab": {}
      },
      "source": [
        "learn_lm.save('es_fine_tuned')\n",
        "learn_lm.save_encoder('es_fine_tuned_enc')"
      ],
      "execution_count": 84,
      "outputs": []
    },
    {
      "cell_type": "code",
      "metadata": {
        "id": "9UZinCBXxBwF",
        "colab_type": "code",
        "colab": {}
      },
      "source": [
        "path = data_lm.path"
      ],
      "execution_count": 87,
      "outputs": []
    },
    {
      "cell_type": "code",
      "metadata": {
        "id": "IoQacaTcwnyq",
        "colab_type": "code",
        "colab": {}
      },
      "source": [
        "data_clas = (TextList.from_df(train_df, path, vocab=data_lm.vocab, cols='text')\n",
        "    .split_by_rand_pct(0.1, seed=42)\n",
        "    .label_from_df(cols='airline_sentiment')\n",
        "    .databunch(bs=bs, num_workers=1))"
      ],
      "execution_count": null,
      "outputs": []
    },
    {
      "cell_type": "code",
      "metadata": {
        "id": "CtpKHzFix43r",
        "colab_type": "code",
        "colab": {
          "base_uri": "https://localhost:8080/",
          "height": 343
        },
        "outputId": "87f03489-165f-44b2-8cb6-3109a6a8bc4d"
      },
      "source": [
        "data_clas"
      ],
      "execution_count": 101,
      "outputs": [
        {
          "output_type": "execute_result",
          "data": {
            "text/plain": [
              "TextClasDataBunch;\n",
              "\n",
              "Train: LabelList (7081 items)\n",
              "x: TextList\n",
              "xxbos xxmaj trabajar en # xxmaj ryanair como # xxup tma : https : / / t.co / xxunk # empleo,xxbos @iberia xxup @fionaferrer xxmaj cuando xxunk en xxmaj cancún se viaja y xxunk de manera sin igual,xxbos xxmaj xxunk que @iberia te trata muy bien en santiago de xxunk cambia el asiento , te manda a volar en el xxunk xxunk , e … https : / / t.co / xxunk,xxbos xxup nunca xxup nunca xxup nunca xxunk el café de xxmaj ryanair . \n",
              "  xxmaj bueno , nada que xxunk a bordo .,xxbos @cris_tortu @dakar @iberia @mitsubishi_es @bfgoodricheu @burgostur @astintlogistics @uremovil @karbium xxmaj muchos éxito … https : / / t.co / xxunk\n",
              "y: CategoryList\n",
              "1,1,0,0,2\n",
              "Path: /content/eswiki;\n",
              "\n",
              "Valid: LabelList (786 items)\n",
              "x: TextList\n",
              "xxbos xxmaj línea xxmaj directa , xxmaj ryanair y la larga lista de empresas que xxunk con los 902 https : / / t.co / xxunk vía xxunk,xxbos xxmaj con @iberia , mi destino a un solo click . ¡ xxmaj deseadme suerte ! # holaargentina . xxmaj hola 79 destinos europeos al mejor precio https : / / t.co / xxunk,xxbos @iberia sabemos si se cancela este vuelo ? ? xxmaj gracias ! https : / / t.co / xxunk,xxbos @iberia ¿ es posible cambiar la fecha de mi billete a través de su página web ?,xxbos @iberia xxmaj buenas tardes , es posible que el servicio xxup ib xxmaj plus xxmaj oro te tenga más de 15 minutos en espera para una xxunk … https : / / t.co / xxunk\n",
              "y: CategoryList\n",
              "0,1,1,1,0\n",
              "Path: /content/eswiki;\n",
              "\n",
              "Test: None"
            ]
          },
          "metadata": {
            "tags": []
          },
          "execution_count": 101
        }
      ]
    },
    {
      "cell_type": "code",
      "metadata": {
        "id": "DUr_mOcZxVGh",
        "colab_type": "code",
        "colab": {}
      },
      "source": [
        "data_clas.save('es_textlist_class')"
      ],
      "execution_count": 90,
      "outputs": []
    },
    {
      "cell_type": "code",
      "metadata": {
        "id": "bk_lqISfwru_",
        "colab_type": "code",
        "colab": {}
      },
      "source": [
        "data_clas = load_data(path, 'es_textlist_class', bs=bs, num_workers=1)"
      ],
      "execution_count": 91,
      "outputs": []
    },
    {
      "cell_type": "code",
      "metadata": {
        "id": "xKhU9BmhwtOI",
        "colab_type": "code",
        "colab": {
          "base_uri": "https://localhost:8080/",
          "height": 34
        },
        "outputId": "7fe31263-113e-41fa-c809-648e2bec00c7"
      },
      "source": [
        "learn_c = text_classifier_learner(data_clas, AWD_LSTM, drop_mult=0.5, metrics=[accuracy]).to_fp16()\n",
        "learn_c.load_encoder('es_fine_tuned_enc')\n",
        "learn_c.freeze()"
      ],
      "execution_count": 93,
      "outputs": [
        {
          "output_type": "stream",
          "text": [
            "Downloading https://s3.amazonaws.com/fast-ai-modelzoo/wt103-fwd.tgz\n"
          ],
          "name": "stdout"
        },
        {
          "output_type": "display_data",
          "data": {
            "text/html": [
              ""
            ],
            "text/plain": [
              "<IPython.core.display.HTML object>"
            ]
          },
          "metadata": {
            "tags": []
          }
        }
      ]
    },
    {
      "cell_type": "code",
      "metadata": {
        "id": "OZHgCXE6wvSc",
        "colab_type": "code",
        "colab": {}
      },
      "source": [
        "lr=2e-2\n",
        "lr *= bs/48"
      ],
      "execution_count": 94,
      "outputs": []
    },
    {
      "cell_type": "code",
      "metadata": {
        "id": "5AOG5kxOwwbi",
        "colab_type": "code",
        "colab": {
          "base_uri": "https://localhost:8080/",
          "height": 111
        },
        "outputId": "c9f69b96-250f-4c65-bb89-c2de977aee04"
      },
      "source": [
        "learn_c.fit_one_cycle(2, lr, moms=(0.8,0.7))"
      ],
      "execution_count": 95,
      "outputs": [
        {
          "output_type": "display_data",
          "data": {
            "text/html": [
              "<table border=\"1\" class=\"dataframe\">\n",
              "  <thead>\n",
              "    <tr style=\"text-align: left;\">\n",
              "      <th>epoch</th>\n",
              "      <th>train_loss</th>\n",
              "      <th>valid_loss</th>\n",
              "      <th>accuracy</th>\n",
              "      <th>time</th>\n",
              "    </tr>\n",
              "  </thead>\n",
              "  <tbody>\n",
              "    <tr>\n",
              "      <td>0</td>\n",
              "      <td>1.016114</td>\n",
              "      <td>0.965652</td>\n",
              "      <td>0.512723</td>\n",
              "      <td>00:01</td>\n",
              "    </tr>\n",
              "    <tr>\n",
              "      <td>1</td>\n",
              "      <td>0.950363</td>\n",
              "      <td>0.917150</td>\n",
              "      <td>0.557252</td>\n",
              "      <td>00:01</td>\n",
              "    </tr>\n",
              "  </tbody>\n",
              "</table>"
            ],
            "text/plain": [
              "<IPython.core.display.HTML object>"
            ]
          },
          "metadata": {
            "tags": []
          }
        }
      ]
    },
    {
      "cell_type": "code",
      "metadata": {
        "id": "oigJWWCPwzW9",
        "colab_type": "code",
        "colab": {
          "base_uri": "https://localhost:8080/",
          "height": 111
        },
        "outputId": "8e872469-fcd1-46ff-fd04-ece1e73147b0"
      },
      "source": [
        "learn_c.fit_one_cycle(2, lr, moms=(0.8,0.7))"
      ],
      "execution_count": 96,
      "outputs": [
        {
          "output_type": "display_data",
          "data": {
            "text/html": [
              "<table border=\"1\" class=\"dataframe\">\n",
              "  <thead>\n",
              "    <tr style=\"text-align: left;\">\n",
              "      <th>epoch</th>\n",
              "      <th>train_loss</th>\n",
              "      <th>valid_loss</th>\n",
              "      <th>accuracy</th>\n",
              "      <th>time</th>\n",
              "    </tr>\n",
              "  </thead>\n",
              "  <tbody>\n",
              "    <tr>\n",
              "      <td>0</td>\n",
              "      <td>0.949734</td>\n",
              "      <td>0.977706</td>\n",
              "      <td>0.520356</td>\n",
              "      <td>00:01</td>\n",
              "    </tr>\n",
              "    <tr>\n",
              "      <td>1</td>\n",
              "      <td>0.939973</td>\n",
              "      <td>0.919892</td>\n",
              "      <td>0.550891</td>\n",
              "      <td>00:01</td>\n",
              "    </tr>\n",
              "  </tbody>\n",
              "</table>"
            ],
            "text/plain": [
              "<IPython.core.display.HTML object>"
            ]
          },
          "metadata": {
            "tags": []
          }
        }
      ]
    },
    {
      "cell_type": "code",
      "metadata": {
        "id": "EF7PiaGHxmwL",
        "colab_type": "code",
        "colab": {
          "base_uri": "https://localhost:8080/",
          "height": 111
        },
        "outputId": "d175cf1e-2182-42e6-8780-752728e563a9"
      },
      "source": [
        "learn_c.fit_one_cycle(2, slice(lr/(2.6**4),lr), moms=(0.8,0.7))"
      ],
      "execution_count": 97,
      "outputs": [
        {
          "output_type": "display_data",
          "data": {
            "text/html": [
              "<table border=\"1\" class=\"dataframe\">\n",
              "  <thead>\n",
              "    <tr style=\"text-align: left;\">\n",
              "      <th>epoch</th>\n",
              "      <th>train_loss</th>\n",
              "      <th>valid_loss</th>\n",
              "      <th>accuracy</th>\n",
              "      <th>time</th>\n",
              "    </tr>\n",
              "  </thead>\n",
              "  <tbody>\n",
              "    <tr>\n",
              "      <td>0</td>\n",
              "      <td>0.939646</td>\n",
              "      <td>0.962590</td>\n",
              "      <td>0.496183</td>\n",
              "      <td>00:01</td>\n",
              "    </tr>\n",
              "    <tr>\n",
              "      <td>1</td>\n",
              "      <td>0.922235</td>\n",
              "      <td>0.922146</td>\n",
              "      <td>0.548346</td>\n",
              "      <td>00:01</td>\n",
              "    </tr>\n",
              "  </tbody>\n",
              "</table>"
            ],
            "text/plain": [
              "<IPython.core.display.HTML object>"
            ]
          },
          "metadata": {
            "tags": []
          }
        }
      ]
    },
    {
      "cell_type": "code",
      "metadata": {
        "id": "js0kg8KExqcS",
        "colab_type": "code",
        "colab": {
          "base_uri": "https://localhost:8080/",
          "height": 111
        },
        "outputId": "41669dc8-b87c-4e23-9871-d13b1d40d5f8"
      },
      "source": [
        "learn_c.fit_one_cycle(2, slice(lr/2/(2.6**4),lr/2), moms=(0.8,0.7))"
      ],
      "execution_count": 98,
      "outputs": [
        {
          "output_type": "display_data",
          "data": {
            "text/html": [
              "<table border=\"1\" class=\"dataframe\">\n",
              "  <thead>\n",
              "    <tr style=\"text-align: left;\">\n",
              "      <th>epoch</th>\n",
              "      <th>train_loss</th>\n",
              "      <th>valid_loss</th>\n",
              "      <th>accuracy</th>\n",
              "      <th>time</th>\n",
              "    </tr>\n",
              "  </thead>\n",
              "  <tbody>\n",
              "    <tr>\n",
              "      <td>0</td>\n",
              "      <td>0.907420</td>\n",
              "      <td>0.945816</td>\n",
              "      <td>0.531807</td>\n",
              "      <td>00:01</td>\n",
              "    </tr>\n",
              "    <tr>\n",
              "      <td>1</td>\n",
              "      <td>0.900948</td>\n",
              "      <td>0.916779</td>\n",
              "      <td>0.553435</td>\n",
              "      <td>00:01</td>\n",
              "    </tr>\n",
              "  </tbody>\n",
              "</table>"
            ],
            "text/plain": [
              "<IPython.core.display.HTML object>"
            ]
          },
          "metadata": {
            "tags": []
          }
        }
      ]
    },
    {
      "cell_type": "code",
      "metadata": {
        "id": "7uSggd7ExsyG",
        "colab_type": "code",
        "colab": {
          "base_uri": "https://localhost:8080/",
          "height": 80
        },
        "outputId": "60a7063c-6dac-4a59-9bf5-fd585f89a3dd"
      },
      "source": [
        "learn_c.fit_one_cycle(1, slice(lr/10/(2.6**4),lr/10), moms=(0.8,0.7))"
      ],
      "execution_count": 99,
      "outputs": [
        {
          "output_type": "display_data",
          "data": {
            "text/html": [
              "<table border=\"1\" class=\"dataframe\">\n",
              "  <thead>\n",
              "    <tr style=\"text-align: left;\">\n",
              "      <th>epoch</th>\n",
              "      <th>train_loss</th>\n",
              "      <th>valid_loss</th>\n",
              "      <th>accuracy</th>\n",
              "      <th>time</th>\n",
              "    </tr>\n",
              "  </thead>\n",
              "  <tbody>\n",
              "    <tr>\n",
              "      <td>0</td>\n",
              "      <td>0.874687</td>\n",
              "      <td>0.915366</td>\n",
              "      <td>0.555980</td>\n",
              "      <td>00:01</td>\n",
              "    </tr>\n",
              "  </tbody>\n",
              "</table>"
            ],
            "text/plain": [
              "<IPython.core.display.HTML object>"
            ]
          },
          "metadata": {
            "tags": []
          }
        }
      ]
    },
    {
      "cell_type": "code",
      "metadata": {
        "id": "PD2PoNkcxw0F",
        "colab_type": "code",
        "colab": {
          "base_uri": "https://localhost:8080/",
          "height": 80
        },
        "outputId": "bb71f238-06f8-4090-df93-c8f45b7133dc"
      },
      "source": [
        "learn_c.fit_one_cycle(1, slice(lr/10/(2.6**4),lr/10), moms=(0.8,0.7))"
      ],
      "execution_count": 100,
      "outputs": [
        {
          "output_type": "display_data",
          "data": {
            "text/html": [
              "<table border=\"1\" class=\"dataframe\">\n",
              "  <thead>\n",
              "    <tr style=\"text-align: left;\">\n",
              "      <th>epoch</th>\n",
              "      <th>train_loss</th>\n",
              "      <th>valid_loss</th>\n",
              "      <th>accuracy</th>\n",
              "      <th>time</th>\n",
              "    </tr>\n",
              "  </thead>\n",
              "  <tbody>\n",
              "    <tr>\n",
              "      <td>0</td>\n",
              "      <td>0.871139</td>\n",
              "      <td>0.921229</td>\n",
              "      <td>0.559796</td>\n",
              "      <td>00:01</td>\n",
              "    </tr>\n",
              "  </tbody>\n",
              "</table>"
            ],
            "text/plain": [
              "<IPython.core.display.HTML object>"
            ]
          },
          "metadata": {
            "tags": []
          }
        }
      ]
    },
    {
      "cell_type": "code",
      "metadata": {
        "id": "6A5nJQNKxxx2",
        "colab_type": "code",
        "colab": {
          "base_uri": "https://localhost:8080/",
          "height": 139
        },
        "outputId": "f0b75112-c4ac-4e11-f257-6096b24f2d7e"
      },
      "source": [
        "learn_c.predict('hola que pasa')"
      ],
      "execution_count": 106,
      "outputs": [
        {
          "output_type": "stream",
          "text": [
            "/usr/local/lib/python3.6/dist-packages/fastai/text/data.py:339: UserWarning: This overload of nonzero is deprecated:\n",
            "\tnonzero()\n",
            "Consider using one of the following signatures instead:\n",
            "\tnonzero(*, bool as_tuple) (Triggered internally at  /pytorch/torch/csrc/utils/python_arg_parser.cpp:766.)\n",
            "  idx_min = (t != self.pad_idx).nonzero().min()\n"
          ],
          "name": "stderr"
        },
        {
          "output_type": "execute_result",
          "data": {
            "text/plain": [
              "(Category tensor(1), tensor(1), tensor([0.3546, 0.4473, 0.1981]))"
            ]
          },
          "metadata": {
            "tags": []
          },
          "execution_count": 106
        }
      ]
    },
    {
      "cell_type": "code",
      "metadata": {
        "id": "Tey-tl4EyzUa",
        "colab_type": "code",
        "colab": {
          "base_uri": "https://localhost:8080/",
          "height": 1000
        },
        "outputId": "490b123f-940d-46e6-98c0-c4853835d239"
      },
      "source": [
        "learn_c.data.vocab.itos"
      ],
      "execution_count": 108,
      "outputs": [
        {
          "output_type": "execute_result",
          "data": {
            "text/plain": [
              "['xxunk',\n",
              " 'xxpad',\n",
              " 'xxbos',\n",
              " 'xxeos',\n",
              " 'xxfld',\n",
              " 'xxmaj',\n",
              " 'xxup',\n",
              " 'xxrep',\n",
              " 'xxwrep',\n",
              " '/',\n",
              " ':',\n",
              " 'de',\n",
              " 'https',\n",
              " 't.co',\n",
              " '.',\n",
              " '@iberia',\n",
              " ',',\n",
              " 'en',\n",
              " 'a',\n",
              " '…',\n",
              " 'que',\n",
              " 'y',\n",
              " 'el',\n",
              " 'la',\n",
              " '#',\n",
              " 'iberia',\n",
              " 'con',\n",
              " 'no',\n",
              " '!',\n",
              " 'ryanair',\n",
              " 'un',\n",
              " 'por',\n",
              " 'los',\n",
              " 'me',\n",
              " '?',\n",
              " 'vuelo',\n",
              " 'para',\n",
              " 'una',\n",
              " 'mi',\n",
              " 'es',\n",
              " 'al',\n",
              " 'del',\n",
              " 'se',\n",
              " 'lo',\n",
              " 'las',\n",
              " '...',\n",
              " 'hola',\n",
              " 'más',\n",
              " '¡',\n",
              " '-',\n",
              " 'si',\n",
              " 'madrid',\n",
              " 'vuelos',\n",
              " '\\n ',\n",
              " 'solo',\n",
              " 'gracias',\n",
              " '@ryanair',\n",
              " 'mejor',\n",
              " 'pero',\n",
              " 'desde',\n",
              " 'su',\n",
              " 'destino',\n",
              " 'suerte',\n",
              " 'precio',\n",
              " 'destinos',\n",
              " 'ya',\n",
              " 'como',\n",
              " 'europeos',\n",
              " 'click',\n",
              " '79',\n",
              " 'deseadme',\n",
              " 'españa',\n",
              " '¿',\n",
              " 'te',\n",
              " '2',\n",
              " 'he',\n",
              " '4',\n",
              " '(',\n",
              " 'o',\n",
              " ')',\n",
              " 'así',\n",
              " 'avión',\n",
              " 'años',\n",
              " 'huelga',\n",
              " 'sus',\n",
              " '\"',\n",
              " 'sin',\n",
              " 'cuando',\n",
              " 'fue',\n",
              " 'muy',\n",
              " 'yo',\n",
              " 'pilotos',\n",
              " 'maleta',\n",
              " 'vía',\n",
              " 'hace',\n",
              " 'holacolombia',\n",
              " 'hay',\n",
              " 'nos',\n",
              " 'ha',\n",
              " 'holaargentina',\n",
              " 'qué',\n",
              " '5',\n",
              " 'hacer',\n",
              " 'euros',\n",
              " 'spanair',\n",
              " 'días',\n",
              " 'ni',\n",
              " 'tengo',\n",
              " 'porque',\n",
              " 'q',\n",
              " 'web',\n",
              " '@ryanair_es',\n",
              " 'le',\n",
              " 'e',\n",
              " 'accidente',\n",
              " 'tu',\n",
              " 'equipaje',\n",
              " 'video',\n",
              " 'todo',\n",
              " 'pasajeros',\n",
              " 'son',\n",
              " 'hoy',\n",
              " 'está',\n",
              " 'han',\n",
              " 'les',\n",
              " '€',\n",
              " 'volar',\n",
              " 'aeropuerto',\n",
              " '5022',\n",
              " 'décadas',\n",
              " 'horas',\n",
              " 'dos',\n",
              " 'letal',\n",
              " 'europa',\n",
              " '️',\n",
              " 'día',\n",
              " '@vueling',\n",
              " 'nada',\n",
              " 'hasta',\n",
              " 'billete',\n",
              " 'eso',\n",
              " 'estoy',\n",
              " 'este',\n",
              " 'puedo',\n",
              " 'número',\n",
              " 'tiene',\n",
              " 'siempre',\n",
              " 'viajar',\n",
              " 'billetes',\n",
              " 'vez',\n",
              " '@iberiaexpress',\n",
              " 'todos',\n",
              " 'ahora',\n",
              " 'favor',\n",
              " 'plus',\n",
              " 'año',\n",
              " 'viaje',\n",
              " 'aerolínea',\n",
              " 'os',\n",
              " 'barcelona',\n",
              " 'después',\n",
              " 'esta',\n",
              " 'maletas',\n",
              " 'servicio',\n",
              " 'vueling',\n",
              " 'menos',\n",
              " 'express',\n",
              " 'hora',\n",
              " 'diciembre',\n",
              " 'buenos',\n",
              " 'rt',\n",
              " 'ser',\n",
              " '😂',\n",
              " 'manera',\n",
              " '25',\n",
              " '3',\n",
              " 'nuevo',\n",
              " \"'\",\n",
              " 'ver',\n",
              " '\\n \\n ',\n",
              " '“',\n",
              " '✈',\n",
              " 'tierra',\n",
              " '2018',\n",
              " 'respuesta',\n",
              " 'otra',\n",
              " 'puede',\n",
              " 'bien',\n",
              " '%',\n",
              " 'también',\n",
              " '”',\n",
              " 'mano',\n",
              " 'personal',\n",
              " 'entre',\n",
              " 'retraso',\n",
              " 'cumple',\n",
              " 'oferta',\n",
              " 'cabina',\n",
              " '1',\n",
              " 'queremos',\n",
              " 'especial',\n",
              " 'mis',\n",
              " 'cliente',\n",
              " '90',\n",
              " 'sindicatos',\n",
              " '15',\n",
              " 'navidad',\n",
              " 'mañana',\n",
              " 'enero',\n",
              " 'tienen',\n",
              " 'contigo',\n",
              " 'd',\n",
              " 'dinero',\n",
              " 'm',\n",
              " 'otro',\n",
              " 'da',\n",
              " 'compañía',\n",
              " 'favorito',\n",
              " 'esto',\n",
              " '10',\n",
              " '_',\n",
              " 'nueva',\n",
              " '30',\n",
              " 'antes',\n",
              " 'elige',\n",
              " '20',\n",
              " 'muchas',\n",
              " 'celebrarlo',\n",
              " 'va',\n",
              " 'sobre',\n",
              " 'reserva',\n",
              " 'in',\n",
              " 'pasajero',\n",
              " 'atención',\n",
              " '..',\n",
              " 'sólo',\n",
              " 'pues',\n",
              " '[',\n",
              " ']',\n",
              " 'tan',\n",
              " 'asientos',\n",
              " 'vuelta',\n",
              " 'primer',\n",
              " 'parece',\n",
              " 'nunca',\n",
              " 'x',\n",
              " 'esperando',\n",
              " 'problema',\n",
              " 'mal',\n",
              " 'mismo',\n",
              " 'página',\n",
              " 'algo',\n",
              " 'comprar',\n",
              " 'cómo',\n",
              " 'viajes',\n",
              " 'mucho',\n",
              " 'cada',\n",
              " 'veces',\n",
              " 'tiempo',\n",
              " 'pasa',\n",
              " 'cambio',\n",
              " 'low',\n",
              " 'ese',\n",
              " 'asiento',\n",
              " 'cost',\n",
              " 'ir',\n",
              " '|',\n",
              " 'quiero',\n",
              " 'tarjeta',\n",
              " 'mad',\n",
              " 'voy',\n",
              " 'sale',\n",
              " 'mas',\n",
              " 'avios',\n",
              " 'check',\n",
              " 'deja',\n",
              " 'pagar',\n",
              " 'donde',\n",
              " 'hecho',\n",
              " 'nadie',\n",
              " 'ruta',\n",
              " 'esperar',\n",
              " 'creo',\n",
              " 'necesito',\n",
              " 'llevo',\n",
              " 'irlanda',\n",
              " 'reclamación',\n",
              " 'sí',\n",
              " 'pueden',\n",
              " 'gente',\n",
              " 'aires',\n",
              " 'directo',\n",
              " 'saber',\n",
              " 'aerolíneas',\n",
              " 'peor',\n",
              " 'dicen',\n",
              " 'londres',\n",
              " '6',\n",
              " 'cosas',\n",
              " 'barajas',\n",
              " 'era',\n",
              " 'vergüenza',\n",
              " 'primera',\n",
              " 'aquí',\n",
              " 'ida',\n",
              " '@samsungespana',\n",
              " 'vamos',\n",
              " 'igual',\n",
              " 'además',\n",
              " 'demora',\n",
              " 'política',\n",
              " 'ustedes',\n",
              " 'mundo',\n",
              " 'casi',\n",
              " 'uno',\n",
              " 'air',\n",
              " '👏',\n",
              " 'alguien',\n",
              " 'unos',\n",
              " 'black',\n",
              " 'luego',\n",
              " 'feliz',\n",
              " 'travelthursday',\n",
              " 'poder',\n",
              " 'van',\n",
              " 'embarque',\n",
              " 'esa',\n",
              " 'espero',\n",
              " 'tras',\n",
              " 'premium',\n",
              " 'ayer',\n",
              " 'acabo',\n",
              " 'friday',\n",
              " '@airnostrumlam',\n",
              " 'busca',\n",
              " 'tripulantes',\n",
              " 'vida',\n",
              " 'sevilla',\n",
              " 'ofertas',\n",
              " 'aviones',\n",
              " 'nuevos',\n",
              " 'cuenta',\n",
              " 'próximo',\n",
              " 'poco',\n",
              " 'facturar',\n",
              " 'problemas',\n",
              " '2017',\n",
              " 'meses',\n",
              " 'buen',\n",
              " 'felicidades',\n",
              " 't',\n",
              " 'parte',\n",
              " 'semana',\n",
              " 'vuestra',\n",
              " '12',\n",
              " 'lanza',\n",
              " 'noticias',\n",
              " 'aún',\n",
              " 'decir',\n",
              " 'sido',\n",
              " 'teléfono',\n",
              " 'espacio',\n",
              " 'puerta',\n",
              " 'intentando',\n",
              " 'huelgas',\n",
              " 'tener',\n",
              " 'habéis',\n",
              " '@british_airways',\n",
              " 'empresa',\n",
              " 'compañías',\n",
              " 'ellos',\n",
              " 'minutos',\n",
              " '@aena',\n",
              " 'vosotros',\n",
              " 'solución',\n",
              " 'llegar',\n",
              " 'caso',\n",
              " 'están',\n",
              " 'error',\n",
              " 'sea',\n",
              " 'mes',\n",
              " 'dan',\n",
              " 'muchos',\n",
              " 'argentina',\n",
              " 'devolucion',\n",
              " 'clientes',\n",
              " 'buenas',\n",
              " 'precios',\n",
              " 'cambiar',\n",
              " 'l',\n",
              " 'retrasa',\n",
              " 'reconocerá',\n",
              " 'gran',\n",
              " 'claro',\n",
              " 'cancelación',\n",
              " 'bueno',\n",
              " 'viajo',\n",
              " 'c',\n",
              " 'compra',\n",
              " 'tripulación',\n",
              " 'toda',\n",
              " 'funciona',\n",
              " 'via',\n",
              " 'pasado',\n",
              " 'alicante',\n",
              " '24',\n",
              " 'ofrece',\n",
              " '100',\n",
              " '@controladores',\n",
              " 'tarde',\n",
              " 'mejores',\n",
              " 'sigue',\n",
              " 'rutas',\n",
              " '@avianca',\n",
              " 'trato',\n",
              " '5.000',\n",
              " 'sigo',\n",
              " 'verdad',\n",
              " 'jodamoslos',\n",
              " 'experiencia',\n",
              " 'aniversario',\n",
              " 'estaba',\n",
              " 'podéis',\n",
              " 'málaga',\n",
              " 'evitar',\n",
              " 'dice',\n",
              " 'equipajes',\n",
              " 'veo',\n",
              " 'emergencia',\n",
              " 'tenido',\n",
              " 'volando',\n",
              " 'otras',\n",
              " 'sé',\n",
              " 'estas',\n",
              " 'saben',\n",
              " 'bodega',\n",
              " 'p',\n",
              " 'hemos',\n",
              " 'valencia',\n",
              " 'final',\n",
              " 'italia',\n",
              " '🛫',\n",
              " 'dm',\n",
              " 'san',\n",
              " 'tax',\n",
              " 'alemania',\n",
              " 'llega',\n",
              " '@aireuropa',\n",
              " 'tampoco',\n",
              " '😍',\n",
              " 'salida',\n",
              " 'colombia',\n",
              " 'soy',\n",
              " 'tanto',\n",
              " 'saludos',\n",
              " 'empleo',\n",
              " 'ninguna',\n",
              " 'tres',\n",
              " 'app',\n",
              " 'hacen',\n",
              " 'trabajadores',\n",
              " 'inaugura',\n",
              " 'alguna',\n",
              " 'british',\n",
              " 'momento',\n",
              " 'fin',\n",
              " 'algún',\n",
              " 'ante',\n",
              " 'cola',\n",
              " 'perdido',\n",
              " 'país',\n",
              " 's',\n",
              " 'mail',\n",
              " '🏻',\n",
              " 'pago',\n",
              " 'quiere',\n",
              " 'casa',\n",
              " 'personas',\n",
              " 'dónde',\n",
              " 'empresas',\n",
              " 'partir',\n",
              " 'mí',\n",
              " 'k',\n",
              " 'retrasos',\n",
              " 'cinco',\n",
              " 'millones',\n",
              " 'n',\n",
              " '@supermanlopezn',\n",
              " '❤',\n",
              " 'business',\n",
              " 'lamentable',\n",
              " 'niki',\n",
              " 'salir',\n",
              " 'dentro',\n",
              " 'nuevas',\n",
              " 'desconvocan',\n",
              " 'conexión',\n",
              " 'avion',\n",
              " 'haciendo',\n",
              " 'online',\n",
              " 'estado',\n",
              " 'llevar',\n",
              " '😡',\n",
              " 'bordo',\n",
              " '@ivan_cortina',\n",
              " '8',\n",
              " 'amazon',\n",
              " 'oficinas',\n",
              " 'poner',\n",
              " 'dar',\n",
              " ';',\n",
              " 'falta',\n",
              " 'quien',\n",
              " 'grupo',\n",
              " '7',\n",
              " 'cancelado',\n",
              " 'tienes',\n",
              " 'españoles',\n",
              " 'rebajas',\n",
              " 'cancelaciones',\n",
              " 'foto',\n",
              " 'había',\n",
              " 'prat',\n",
              " 'seguro',\n",
              " 'bcn',\n",
              " 'tenéis',\n",
              " 'mierda',\n",
              " 'level',\n",
              " 'compré',\n",
              " 'ala',\n",
              " 'nuestro',\n",
              " 'g',\n",
              " 'cosa',\n",
              " 'clase',\n",
              " 'vaya',\n",
              " '@flywithleveles',\n",
              " 'cobran',\n",
              " 'posible',\n",
              " 'barato',\n",
              " 'estar',\n",
              " 'tal',\n",
              " 'celebra',\n",
              " 'convocan',\n",
              " 'través',\n",
              " 'japón',\n",
              " 'todas',\n",
              " 'descuento',\n",
              " 'hice',\n",
              " 'pasaje',\n",
              " 'buena',\n",
              " 'historia',\n",
              " 'bajo',\n",
              " 'easyjet',\n",
              " 'trabajo',\n",
              " 'volver',\n",
              " '😊',\n",
              " 'estamos',\n",
              " 'ayuda',\n",
              " 'vacaciones',\n",
              " 'rey',\n",
              " '9',\n",
              " '29',\n",
              " 'iag',\n",
              " 'aeropuertos',\n",
              " '🤔',\n",
              " 'vuestro',\n",
              " 'unas',\n",
              " 'airlines',\n",
              " 'dias',\n",
              " 'retuiteemos',\n",
              " 'holaeuropa',\n",
              " 'tendrá',\n",
              " 'nombre',\n",
              " 'grande',\n",
              " 'mensaje',\n",
              " 'ventas',\n",
              " 'espera',\n",
              " 'airways',\n",
              " 'será',\n",
              " 'gratis',\n",
              " 'excelente',\n",
              " 'vergonzoso',\n",
              " 'pasajes',\n",
              " 'i',\n",
              " 'publicidad',\n",
              " '11',\n",
              " 'sala',\n",
              " 'línea',\n",
              " 'baratos',\n",
              " 'felices',\n",
              " 'opción',\n",
              " 'durante',\n",
              " 'domingo',\n",
              " '200',\n",
              " 'marzo',\n",
              " 'turismo',\n",
              " 'tus',\n",
              " 'sabe',\n",
              " '@youtube',\n",
              " 'puedes',\n",
              " 'convertirse',\n",
              " 'esos',\n",
              " 'email',\n",
              " 'debe',\n",
              " 'duda',\n",
              " 'ayudar',\n",
              " 'familia',\n",
              " 'encanta',\n",
              " 'forma',\n",
              " 'amenaza',\n",
              " 'comida',\n",
              " 'misma',\n",
              " 'dia',\n",
              " 'promoción',\n",
              " 'lleva',\n",
              " 'haber',\n",
              " 'viaja',\n",
              " 'llegó',\n",
              " 'compartam',\n",
              " 'jajaja',\n",
              " 'mira',\n",
              " 'siendo',\n",
              " 'puto',\n",
              " 'llegado',\n",
              " 'siguen',\n",
              " 'justo',\n",
              " 'media',\n",
              " 'información',\n",
              " 'reclamar',\n",
              " 'turista',\n",
              " 'enviado',\n",
              " 'mientras',\n",
              " 'paso',\n",
              " 'imposible',\n",
              " 'hago',\n",
              " 'tuve',\n",
              " 'portugal',\n",
              " 'pasar',\n",
              " 'share',\n",
              " 'aumentará',\n",
              " 'azafata',\n",
              " 'samsung',\n",
              " 'entiendo',\n",
              " 'estos',\n",
              " 'código',\n",
              " 'ib',\n",
              " 'aunque',\n",
              " 'airbus',\n",
              " 'seguimos',\n",
              " 'única',\n",
              " 'escala',\n",
              " 'convoca',\n",
              " '50',\n",
              " 'correo',\n",
              " 'dejan',\n",
              " 'perder',\n",
              " 'acuerdo',\n",
              " 'oye',\n",
              " 'cual',\n",
              " 'puesto',\n",
              " 'plazas',\n",
              " 'marketing',\n",
              " '@elpais_economia',\n",
              " 'pierde',\n",
              " 'tenemos',\n",
              " 'allí',\n",
              " 'aviación',\n",
              " 'digo',\n",
              " 'cierto',\n",
              " 'lufthansa',\n",
              " 'gestión',\n",
              " 'operado',\n",
              " 'sistema',\n",
              " 'pasan',\n",
              " 'quieren',\n",
              " 'ahí',\n",
              " 'semanas',\n",
              " 'llamar',\n",
              " 'reclamaciones',\n",
              " 'según',\n",
              " 'hacia',\n",
              " 'tenía',\n",
              " 'visto',\n",
              " 'todavía',\n",
              " 'cualquier',\n",
              " 'chile',\n",
              " '21',\n",
              " 'hizo',\n",
              " 'vigo',\n",
              " '@sirchandlerblog',\n",
              " '@infoviajera',\n",
              " 'fecha',\n",
              " 'grandes',\n",
              " 'cuánto',\n",
              " 'pasó',\n",
              " 'sería',\n",
              " 'pa',\n",
              " 'jajajaja',\n",
              " 'móvil',\n",
              " 'enhorabuena',\n",
              " 'pone',\n",
              " 'ojalá',\n",
              " 'devolver',\n",
              " 'sino',\n",
              " 'cuanto',\n",
              " 'vip',\n",
              " 'tokyo',\n",
              " '2.990',\n",
              " 'incl',\n",
              " '👍',\n",
              " 'santiago',\n",
              " 'aérea',\n",
              " 'permite',\n",
              " 'perdió',\n",
              " 'haya',\n",
              " 'cansado',\n",
              " 'pregunta',\n",
              " 'vídeo',\n",
              " 'llego',\n",
              " 'cargo',\n",
              " 'toca',\n",
              " 'navidades',\n",
              " 'bici',\n",
              " 'dado',\n",
              " 'costo',\n",
              " 'pueda',\n",
              " 'abre',\n",
              " 'quién',\n",
              " 'otros',\n",
              " '.@iberia',\n",
              " 'podría',\n",
              " 'ba',\n",
              " 'mucha',\n",
              " 'último',\n",
              " 'norwegian',\n",
              " '@aparayas',\n",
              " 'persona',\n",
              " 'debería',\n",
              " 'lanzan',\n",
              " 'aparece',\n",
              " '😉',\n",
              " 'medio',\n",
              " '17',\n",
              " 'paros',\n",
              " 'mala',\n",
              " 'reclamo',\n",
              " 'hablar',\n",
              " 'directos',\n",
              " '@renfe',\n",
              " 'mostrador',\n",
              " 'cuándo',\n",
              " '\\xa0',\n",
              " 'cancelan',\n",
              " 'perdida',\n",
              " 'telefono',\n",
              " 'respecto',\n",
              " 'aéreo',\n",
              " 'fuera',\n",
              " 'asturias',\n",
              " 'quieres',\n",
              " '@aerolineas_ar',\n",
              " 'mayor',\n",
              " 'entonces',\n",
              " 'valijas',\n",
              " 'nosotros',\n",
              " 'puta',\n",
              " 'mitad',\n",
              " 'dejar',\n",
              " 'última',\n",
              " 'aterrizar',\n",
              " 'esas',\n",
              " 'vas',\n",
              " 'desastre',\n",
              " 'tema',\n",
              " 'aterrizaje',\n",
              " '‘',\n",
              " '’',\n",
              " 'instantaneamente',\n",
              " 'cabeza',\n",
              " 'compre',\n",
              " '@easyjet',\n",
              " 'embarcar',\n",
              " 'queda',\n",
              " 'ciudad',\n",
              " 'teniendo',\n",
              " 'volado',\n",
              " ':)',\n",
              " 'par',\n",
              " '@iberiapromos',\n",
              " 'indemnización',\n",
              " 'fiestas',\n",
              " 'noche',\n",
              " 'subir',\n",
              " 'azafatas',\n",
              " '@aeroasturias',\n",
              " 'vale',\n",
              " 'puente',\n",
              " 'noviembre',\n",
              " '@algoqrecordar',\n",
              " 'fácil',\n",
              " 'cobrar',\n",
              " 'viajeros',\n",
              " 'semanales',\n",
              " 'seguir',\n",
              " 'sacar',\n",
              " 'puntos',\n",
              " '🇪',\n",
              " '🇸',\n",
              " 'rico',\n",
              " 'reina',\n",
              " 'somos',\n",
              " 'octubre',\n",
              " 'hijo',\n",
              " 'centro',\n",
              " 'sois',\n",
              " 'iba',\n",
              " 'ningún',\n",
              " 'vuelve',\n",
              " '😭',\n",
              " 't4',\n",
              " 'pésimo',\n",
              " 'bogotá',\n",
              " 'culpa',\n",
              " 'amigos',\n",
              " 'datos',\n",
              " '😢',\n",
              " 'méxico',\n",
              " 'lista',\n",
              " '100.000',\n",
              " 'entrar',\n",
              " '23',\n",
              " 'contacto',\n",
              " 'descuentos',\n",
              " 'increíble',\n",
              " 'habrá',\n",
              " 'tenga',\n",
              " 'unió',\n",
              " 'medicamentos',\n",
              " 'siento',\n",
              " 'pena',\n",
              " 'madre',\n",
              " 'sabía',\n",
              " 'diario',\n",
              " 'ayudarme',\n",
              " 'contra',\n",
              " '2000',\n",
              " 'verano',\n",
              " '14',\n",
              " 'piloto',\n",
              " 'señores',\n",
              " 'coger',\n",
              " 'cara',\n",
              " 'conforma',\n",
              " 'marca',\n",
              " 'idea',\n",
              " 'general',\n",
              " 'equipo',\n",
              " 'pésima',\n",
              " 'sentirte',\n",
              " 'países',\n",
              " 'sirve',\n",
              " 'lado',\n",
              " 'despues',\n",
              " '40',\n",
              " 'factura',\n",
              " 'mil',\n",
              " 'roma',\n",
              " 'reservas',\n",
              " 'uds',\n",
              " 'facturación',\n",
              " 'bajar',\n",
              " '22',\n",
              " 'encima',\n",
              " 'xd',\n",
              " '@indpcom',\n",
              " 'cobra',\n",
              " '@hosteltur',\n",
              " 'compartir',\n",
              " 'escrito',\n",
              " 'gustaría',\n",
              " '>',\n",
              " 'normal',\n",
              " 'vuelvo',\n",
              " 'md',\n",
              " 'genial',\n",
              " 'estás',\n",
              " 'pagina',\n",
              " 'vuestros',\n",
              " 'trabajar',\n",
              " 'aéreas',\n",
              " 'gol',\n",
              " '600',\n",
              " 'intentado',\n",
              " 'qu',\n",
              " 'dicho',\n",
              " 'entrará',\n",
              " '@fjlopezm',\n",
              " 'juntos',\n",
              " 'varias',\n",
              " 'b',\n",
              " 'llegada',\n",
              " 'aerolinea',\n",
              " 'volamos',\n",
              " 'tarda',\n",
              " 'fraude',\n",
              " 'atencion',\n",
              " 'técnicos',\n",
              " 'regalando',\n",
              " 'hombre',\n",
              " 'juan',\n",
              " 'po',\n",
              " 'fechas',\n",
              " 'jueves',\n",
              " 'puerto',\n",
              " 'bastante',\n",
              " 'milán',\n",
              " 'overbooking',\n",
              " 'quiebra',\n",
              " 'encontrar',\n",
              " '🙈',\n",
              " 'cancelar',\n",
              " 'dejado',\n",
              " 'encuentro',\n",
              " 'ezeiza',\n",
              " 'privado',\n",
              " 'plaza',\n",
              " 'hacerlo',\n",
              " '27',\n",
              " 'sábado',\n",
              " 'residente',\n",
              " 'tenerife',\n",
              " 'varios',\n",
              " 'buscar',\n",
              " 'bilbao',\n",
              " '+',\n",
              " '0',\n",
              " 'sitio',\n",
              " 'reservar',\n",
              " 'nuestra',\n",
              " 'dais',\n",
              " 'explicación',\n",
              " 'acceder',\n",
              " 'niños',\n",
              " 'american',\n",
              " 'min',\n",
              " 'has',\n",
              " 'plata',\n",
              " 'latam',\n",
              " 'york',\n",
              " 'cuesta',\n",
              " '😁',\n",
              " 'comprado',\n",
              " 'razón',\n",
              " 've',\n",
              " 'algunos',\n",
              " 'largo',\n",
              " '😘',\n",
              " 'usar',\n",
              " 'regreso',\n",
              " 'di',\n",
              " 'vigor',\n",
              " 'descubre',\n",
              " 'shanghai',\n",
              " '963',\n",
              " 'includ',\n",
              " 'menudo',\n",
              " 'dios',\n",
              " 'conexiones',\n",
              " 'viernes',\n",
              " 'intento',\n",
              " 'tipo',\n",
              " '……',\n",
              " 'seria',\n",
              " '@lacosmopolilla',\n",
              " 'jamás',\n",
              " 'eh',\n",
              " 'solucionar',\n",
              " 'co',\n",
              " 'supuesto',\n",
              " '@airbus',\n",
              " 'perfecto',\n",
              " 'harto',\n",
              " '163',\n",
              " 'pesetas',\n",
              " 'cuatro',\n",
              " 'viajado',\n",
              " 'irlandeses',\n",
              " 'to',\n",
              " 'tú',\n",
              " 'lindo',\n",
              " '@jonkortajarena',\n",
              " 'pagado',\n",
              " 'condiciones',\n",
              " 'tardes',\n",
              " 'sección',\n",
              " 'podrían',\n",
              " 'viajas',\n",
              " 'u',\n",
              " 'conseguir',\n",
              " 'compro',\n",
              " ...]"
            ]
          },
          "metadata": {
            "tags": []
          },
          "execution_count": 108
        }
      ]
    },
    {
      "cell_type": "code",
      "metadata": {
        "id": "wAB-3Xvqy7pW",
        "colab_type": "code",
        "colab": {}
      },
      "source": [
        ""
      ],
      "execution_count": null,
      "outputs": []
    }
  ]
}